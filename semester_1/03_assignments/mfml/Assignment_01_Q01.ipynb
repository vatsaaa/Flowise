{
  "nbformat": 4,
  "nbformat_minor": 0,
  "metadata": {
    "colab": {
      "provenance": [],
      "authorship_tag": "ABX9TyMuvInrmD8VI6SnmYZwdKa2",
      "include_colab_link": true
    },
    "kernelspec": {
      "name": "python3",
      "display_name": "Python 3"
    },
    "language_info": {
      "name": "python"
    }
  },
  "cells": [
    {
      "cell_type": "markdown",
      "metadata": {
        "id": "view-in-github",
        "colab_type": "text"
      },
      "source": [
        "<a href=\"https://colab.research.google.com/github/vatsaaa/Flowise/blob/main/semester_1/03_assignments/mfml/Assignment_01_Q01.ipynb\" target=\"_parent\"><img src=\"https://colab.research.google.com/assets/colab-badge.svg\" alt=\"Open In Colab\"/></a>"
      ]
    },
    {
      "cell_type": "markdown",
      "source": [
        "Python function to create a random matrix, but without using libraries"
      ],
      "metadata": {
        "id": "E3sQoOj3Iat3"
      }
    },
    {
      "cell_type": "markdown",
      "source": [
        "### Copyright (c) 2023 G. Ankur Vatsa\n",
        "This code is for my M. Tech. assignments. The copyright is addded in good faith that it will restrict others from using and copying for submitting as their own assignments.\n",
        "\n",
        "The algorithms implemented in the code below are all well known. I have explained the algorithms in the text before the code, which you are welcome to read and follow. Thus, if you happen to walk into this repository, I request you not copy or use this code."
      ],
      "metadata": {
        "id": "O_nbH5PQAWC7"
      }
    },
    {
      "cell_type": "code",
      "source": [
        "import random\n",
        "\n",
        "def generate_random_matrix(rows: int, columns: int, allow_decimals: bool=False) -> list:\n",
        "    matrix = []\n",
        "\n",
        "    for _ in range(rows):\n",
        "      if allow_decimals:\n",
        "        # Chose 100 and 990 so that the matrix printing is better to look at\n",
        "        row = [random.choice([random.randint(10000, 99999),\n",
        "                              round(random.uniform(0, 1), 2)])\n",
        "                              for _ in range(columns)]\n",
        "      else:\n",
        "        # Chose 100 and 990 so that the matrix printing is better to look at\n",
        "        row = [random.randint(10000, 99999) for _ in range(columns)]\n",
        "\n",
        "        matrix.append(row)\n",
        "\n",
        "    return matrix"
      ],
      "metadata": {
        "id": "NPLp0yo8Iqed"
      },
      "execution_count": 56,
      "outputs": []
    },
    {
      "cell_type": "code",
      "source": [
        "three_by_three = generate_random_matrix(3, 3, False)\n",
        "\n",
        "three_by_three"
      ],
      "metadata": {
        "colab": {
          "base_uri": "https://localhost:8080/"
        },
        "id": "8pJAHIESLfw1",
        "outputId": "8836104c-d2cf-4cdd-bd2c-40d4b1780128"
      },
      "execution_count": 29,
      "outputs": [
        {
          "output_type": "execute_result",
          "data": {
            "text/plain": [
              "[[618, 909, 905], [504, 809, 196], [386, 899, 921]]"
            ]
          },
          "metadata": {},
          "execution_count": 29
        }
      ]
    },
    {
      "cell_type": "markdown",
      "source": [
        "By defaut, the matrix generated is printed in a single line, that really does not look like a matrix. So, I have created my own function to print a matrix that looks like a matrix.\n",
        "\n",
        "\n",
        "```\n",
        "[ [ 584, 108], [118, 465 ] ]    Vs    [ [ 584, 108 ],\n",
        "                                        [ 118, 465 ] ]\n",
        "```\n",
        "\n",
        "The `print_matrix` function takes a matrix as input and prints it in a formatted way:\n",
        "\n",
        "- print the opening square bracket \"[\" to begin the matrix\n",
        "- iterate over each row in the matrix, and use `enumerate` function to get both the index (i) and the row (row) in each iteration.\n",
        "- for each iteration compress the lists to create an updated row.\n",
        "- If the absolute value in matrix-cell is less than `sys.float_info.epsilon`, the element is replaced with 0. This is done to handle floating-point precision issues and ensure that very small values are treated as 0.\n",
        "- Finally, a closing square bracket \"]\" is printed to represent the end of the matrix.\n",
        "\n",
        "In summary, the print_matrix function takes a matrix, replaces very small values with 0, and prints it."
      ],
      "metadata": {
        "id": "Tz1_ZPxoL8nU"
      }
    },
    {
      "cell_type": "code",
      "source": [
        "import sys\n",
        "\n",
        "def print_matrix(matrix):\n",
        "    print(\"[\", end=\"\")\n",
        "    for i, row in enumerate(matrix):\n",
        "        updated_row = [0 if abs(element) < sys.float_info.epsilon else element for element in row]\n",
        "        print(updated_row, end=\"\")\n",
        "        if i != len(matrix) - 1:\n",
        "            print(\",\\n\", end=\"\")\n",
        "    print(\"]\")\n"
      ],
      "metadata": {
        "id": "anAUIBwfMTVu"
      },
      "execution_count": 5,
      "outputs": []
    },
    {
      "cell_type": "code",
      "source": [
        "print_matrix(three_by_three)"
      ],
      "metadata": {
        "colab": {
          "base_uri": "https://localhost:8080/"
        },
        "id": "UqsGdTHcMhoE",
        "outputId": "c86ec0a7-ba01-41de-f03e-0a035dce6524"
      },
      "execution_count": 30,
      "outputs": [
        {
          "output_type": "stream",
          "name": "stdout",
          "text": [
            "[[618, 909, 905],\n",
            "[504, 809, 196],\n",
            "[386, 899, 921]]\n"
          ]
        }
      ]
    },
    {
      "cell_type": "markdown",
      "source": [
        "Now we get a two_by_one matrix, before creating the augmented matrix"
      ],
      "metadata": {
        "id": "vOirCDPJMxuB"
      }
    },
    {
      "cell_type": "code",
      "source": [
        "three_by_one = generate_random_matrix(3, 1, False)\n",
        "\n",
        "print_matrix(three_by_one)"
      ],
      "metadata": {
        "colab": {
          "base_uri": "https://localhost:8080/"
        },
        "id": "TjGKBWm4M-lb",
        "outputId": "3118b686-489c-4ac4-8bdb-79e719dec1ea"
      },
      "execution_count": 31,
      "outputs": [
        {
          "output_type": "stream",
          "name": "stdout",
          "text": [
            "[[407],\n",
            "[216],\n",
            "[398]]\n"
          ]
        }
      ]
    },
    {
      "cell_type": "markdown",
      "source": [
        "In the well known Gauss Elimination, the augmented matrix is created by keeping `lhs_A | rhs_b` together to create a single matrix. `construct_augmented_matrix()` function creates such an augmented matrix.\n",
        "\n",
        "Length of matrix A must be equal to the length of matrix b. If they are not equal, it raises a generic `Exception` with proper message that clarifies the input expected by the function.\n",
        "\n",
        "Following this basic check, for every row in lhs_A and rhs_b the function bunches together `row` and `bi` in a single row of  new matrix and returns the final matrix thus created.\n"
      ],
      "metadata": {
        "id": "8_alXiP9NaDI"
      }
    },
    {
      "cell_type": "code",
      "source": [
        "def construct_augmented_matrix(lhs_A: list, rhs_b: list):\n",
        "    if len(lhs_A) != len(rhs_b):\n",
        "        raise Exception(\"Number of rows in A must be equal to the length of b\")\n",
        "\n",
        "    # Zip lhs_A and rhs_b to create the augmented matrix\n",
        "    augmented_matrix = [row + bi for row, bi in zip(lhs_A, rhs_b)]\n",
        "\n",
        "    return augmented_matrix"
      ],
      "metadata": {
        "id": "6j5doxcKNuFD"
      },
      "execution_count": 32,
      "outputs": []
    },
    {
      "cell_type": "code",
      "source": [
        "A = three_by_three\n",
        "b = three_by_one\n",
        "\n",
        "augmented_matrix_A_b = construct_augmented_matrix(A, b)\n",
        "\n",
        "print_matrix(augmented_matrix_A_b)"
      ],
      "metadata": {
        "colab": {
          "base_uri": "https://localhost:8080/"
        },
        "id": "byFwL7NMN2us",
        "outputId": "2863d4bf-1bcf-444e-d541-8f8933acac5b"
      },
      "execution_count": 33,
      "outputs": [
        {
          "output_type": "stream",
          "name": "stdout",
          "text": [
            "[[618, 909, 905, 407],\n",
            "[504, 809, 196, 216],\n",
            "[386, 899, 921, 398]]\n"
          ]
        }
      ]
    },
    {
      "cell_type": "markdown",
      "source": [
        "Function to find row echelon form of a given matrix\n",
        "\n",
        "The `find_row_echelon_form()` function takes a matrix as input and returns the row echelon form of the given matrix. Row echelon form is a specific form of a matrix where each row has more leading zeros than the row above it.\n",
        "\n",
        "- Get the number of rows in the matrix using the len function, and number columns is the length of one row\n",
        "- Initialize the `pivot` variable, to keep track of the current pivot position. `pivot position` is the column index where the next pivot element should be found.\n",
        "\n",
        "Now, iterate over each row in the matrix\n",
        "- Check if the `pivot position` is greater than or equal to the number of columns. If it is equal to the number of columns, break out of the loop to stop the algorithm when it processes the last column.\n",
        "- Check if the element at the current row and pivot position is zero. If it is zero, it means that a pivot element needs to be found in a lower row. In this case, iterate over the rows below the current row using another for loop.\n",
        "- Inside the inner loop, check if the element at the current row and pivot position is non-zero. If it is non-zero, swap the current row with the row that has the non-zero element. This step ensures that a non-zero pivot element is brought to the current row.\n",
        "- If no non-zero element is found in the rows below the current row, increment the pivot position and continue to the next iteration of the outer loop. This step ensures that the algorithm moves to the next column when there are no non-zero elements below the current row.\n",
        "- If a non-zero element is found in the rows below the current row, perform elementary row transformations to make all elements below the pivot position zero. This step ensures that below the pivot, we get zeros in the entire column.\n",
        "- Inside the inner loop, calculate the factor by dividing the element at the current row and pivot position by the element at the pivot row and pivot position. This factor will be used to eliminate the non-zero element below the pivot.\n",
        "- Iterate over the columns starting from the pivot position and update the elements in the current row by subtracting the product of the factor and the corresponding element in the pivot row. This step ensures that all elements below the pivot position become zero.\n",
        "- Increment the pivot position and continue to the next iteration of the outer loop. This step ensures that the algorithm moves to the next column.\n",
        "\n",
        "As the outer loop finishes, the modified matrix (which is in row echelon) form is returned."
      ],
      "metadata": {
        "id": "7CueIeoEOmdT"
      }
    },
    {
      "cell_type": "code",
      "source": [
        "from math import floor, ceil\n",
        "from sys import float_info\n",
        "\n",
        "def find_row_echelon_form(matrix: list):\n",
        "    rows = len(matrix)\n",
        "    columns = len(matrix[0])\n",
        "\n",
        "    pivot = 0\n",
        "    for row in range(rows):\n",
        "        if pivot >= columns:\n",
        "            break\n",
        "\n",
        "        # When pivot is 0 find a row where pivot element is not 0 and\n",
        "        if matrix[row][pivot] == 0:\n",
        "            for r in range(row + 1, rows):\n",
        "                if matrix[r][pivot] != 0:\n",
        "                    # swap current row and row with non-zero pivot element\n",
        "                    matrix[row], matrix[r] = matrix[r], matrix[row]\n",
        "                    break\n",
        "                else:\n",
        "                    pivot += 1\n",
        "                    continue\n",
        "\n",
        "        # Now, when pivot position is not 0, do elementary row transformation\n",
        "        # so as to ensure below the pivot we get zeros in the entire column\n",
        "        for r in range(row + 1, rows):\n",
        "            factor_nr = float(matrix[r][pivot])\n",
        "            factor_dr = float(matrix[row][pivot])\n",
        "            try:\n",
        "                factor = (factor_nr / factor_dr)\n",
        "            except ZeroDivisionError:\n",
        "                print(\"Error: Division by zero!\" + \"Please take another suitable matrix.\")\n",
        "                print(\"factor = matrix[r={r}][pivot={pivot}] / matrix[row={row}][[pivot={pivot}] = {nr} / {dr} = {factor}\".format(r=r, row=row, pivot=pivot, nr=matrix[r][pivot], dr=matrix[row][pivot], factor=factor))\n",
        "\n",
        "            for c in range(pivot, columns):\n",
        "                matrix[r][c] = (float(matrix[r][c]) - factor * float(matrix[row][c]))\n",
        "                if matrix[r][c] <= sys.float_info.epsilon:\n",
        "                    matrix[r][c] = 0\n",
        "\n",
        "        pivot += 1\n",
        "\n",
        "    return matrix"
      ],
      "metadata": {
        "id": "E1GjP_PMOuHW"
      },
      "execution_count": 26,
      "outputs": []
    },
    {
      "cell_type": "code",
      "source": [
        "ref_A_b = find_row_echelon_form(augmented_matrix_A_b)\n",
        "\n",
        "print_matrix(ref_A_b)"
      ],
      "metadata": {
        "colab": {
          "base_uri": "https://localhost:8080/"
        },
        "id": "Ik0sVY6TRNfS",
        "outputId": "738225dd-ab48-470a-e492-c065788cb73a"
      },
      "execution_count": 34,
      "outputs": [
        {
          "output_type": "stream",
          "name": "stdout",
          "text": [
            "[[618, 909, 905, 407],\n",
            "[0, 67.67961165048541, 0, 0],\n",
            "[0, 0, 355.74110032362455, 143.789644012945]]\n"
          ]
        }
      ]
    },
    {
      "cell_type": "markdown",
      "source": [
        "`is_row_echelon()` function checks if its input matrix is in row echelon form. It verifies that each row has a non-zero pivot element, and all the elements below the pivot in the same column are zero.\n",
        "\n",
        "Start by iterating over each row in the matrix.\n",
        "- if the pivot value is greater than or equal to the number of columns, break out of the loop since all the remaining columns are zero.\n",
        "- if the pivot element in the current row is zero the matrix is not in row echelon form, so return False\n",
        "- when `pivot element` is non-zero then iterate over the rows below the current row, and if all the elements below the pivot in the same column are zero\n",
        "Inside the inner loop, it checks if the element in the current row and the pivot column is non-zero. If it is, it means that the matrix is not in row echelon form, and the function returns False.\n",
        "\n",
        "After checking all the elements below the pivot in the current column, the pivot value is incremented to move to the next column.\n",
        "\n",
        "Once the outer loop finishes iterating over all the rows, it means that the matrix satisfies the conditions for row echelon form, and the function returns True."
      ],
      "metadata": {
        "id": "nXjHvluUzZaQ"
      }
    },
    {
      "cell_type": "code",
      "source": [
        "def is_row_echelon(matrix: list):\n",
        "    rows = len(matrix)\n",
        "    columns = len(matrix[0])\n",
        "\n",
        "    pivot = 0\n",
        "    for row in range(rows):\n",
        "      if pivot >= columns:\n",
        "        break\n",
        "\n",
        "      # Pivot positions cannot have 0 in a matrix which is in row echelon form\n",
        "      if matrix[row][pivot] < float_info.epsilon:\n",
        "        return False\n",
        "\n",
        "      # All elements below the pivot must be 0\n",
        "      for r in range(row + 1, rows):\n",
        "        if matrix[r][pivot] != 0:\n",
        "          return False\n",
        "\n",
        "      pivot += 1\n",
        "\n",
        "    return True"
      ],
      "metadata": {
        "id": "nvKvBlxWzehd"
      },
      "execution_count": 35,
      "outputs": []
    },
    {
      "cell_type": "code",
      "source": [
        "print(\"Given matrix is in REF\") if is_row_echelon(ref_A_b) else print(\"Given matrix is not in REF\")"
      ],
      "metadata": {
        "colab": {
          "base_uri": "https://localhost:8080/"
        },
        "id": "_rvFkbmHzt1M",
        "outputId": "3f46b4b4-7f90-483a-aa33-b6b35a15713f"
      },
      "execution_count": 36,
      "outputs": [
        {
          "output_type": "stream",
          "name": "stdout",
          "text": [
            "Given matrix is in REF\n"
          ]
        }
      ]
    },
    {
      "cell_type": "markdown",
      "source": [
        "Function to get reduced row echelon form of a matrix in row echelon form"
      ],
      "metadata": {
        "id": "iyUfBux-1Yp5"
      }
    },
    {
      "cell_type": "code",
      "source": [
        "def find_reduced_row_echelon_form(matrix: list, find_ref: bool=False):\n",
        "    if not is_row_echelon(matrix) and find_ref:\n",
        "        matrix = find_row_echelon_form(matrix)\n",
        "    elif not is_row_echelon(matrix) and not find_ref:\n",
        "        print(\"Given matrix is not in row echelon form, choose a different matrix to operate on!\")\n",
        "\n",
        "    rows = len(matrix)\n",
        "    columns = len(matrix[0])\n",
        "\n",
        "    pivot = 0\n",
        "    for row in range(rows):\n",
        "        if pivot >= columns:\n",
        "            break\n",
        "\n",
        "        # Divide the pivot row by the pivot element\n",
        "        pivot_element = matrix[row][pivot]\n",
        "        for c in range(columns):\n",
        "          try:\n",
        "            matrix[row][c] /= pivot_element\n",
        "          except ZeroDivisionError:\n",
        "            print(\"Error: Division by zero!\" + \"Please take another suitable matrix.\")\n",
        "            break\n",
        "\n",
        "        # Eliminate non-zero elements above the pivot\n",
        "        for r in range(row):\n",
        "            factor = matrix[r][pivot]\n",
        "            for c in range(columns):\n",
        "                matrix[r][c] -= factor * matrix[row][c]\n",
        "\n",
        "        # Eliminate non-zero elements below the pivot\n",
        "        for r in range(row + 1, rows):\n",
        "            factor = matrix[r][pivot]\n",
        "            for c in range(columns):\n",
        "                matrix[r][c] -= factor * matrix[row][c]\n",
        "\n",
        "                if matrix[r][c] <= sys.float_info.epsilon:\n",
        "                  matrix[r][c] = 0\n",
        "\n",
        "        pivot += 1\n",
        "\n",
        "    return matrix\n"
      ],
      "metadata": {
        "id": "mIIdfhj31gJZ"
      },
      "execution_count": 37,
      "outputs": []
    },
    {
      "cell_type": "code",
      "source": [
        "rref_A_b = find_reduced_row_echelon_form(ref_A_b)\n",
        "\n",
        "print_matrix(rref_A_b)"
      ],
      "metadata": {
        "id": "yhbt28ue1svd",
        "colab": {
          "base_uri": "https://localhost:8080/"
        },
        "outputId": "a4efe453-32a2-4ddb-e966-d422be4e3e69"
      },
      "execution_count": 38,
      "outputs": [
        {
          "output_type": "stream",
          "name": "stdout",
          "text": [
            "[[1.0, 0, 0, 0.0666687893453658],\n",
            "[0, 1.0, 0, 0],\n",
            "[0, 0, 1.0, 0.40419744550780545]]\n"
          ]
        }
      ]
    },
    {
      "cell_type": "markdown",
      "source": [
        "1/c) Get a 5 x 7 matrix and a 5 x 1 matrix"
      ],
      "metadata": {
        "id": "onSVq35v69P9"
      }
    },
    {
      "cell_type": "code",
      "source": [
        "five_by_seven_A = generate_random_matrix(rows=5, columns=7)\n",
        "five_by_one_b = generate_random_matrix(rows=5, columns=1)\n",
        "\n",
        "print(\"Matrix A: \")\n",
        "print_matrix(five_by_seven_A)\n",
        "print(\"\\n\\n\\n\\n\\n\")\n",
        "\n",
        "print(\"Matrix b: \")\n",
        "print_matrix(five_by_one_b)"
      ],
      "metadata": {
        "colab": {
          "base_uri": "https://localhost:8080/"
        },
        "id": "Dw8PLJkX7Ko3",
        "outputId": "d567fa47-74da-499c-8a33-b50eadd4ba08"
      },
      "execution_count": 39,
      "outputs": [
        {
          "output_type": "stream",
          "name": "stdout",
          "text": [
            "Matrix A: \n",
            "[[987, 640, 188, 583, 854, 400, 162],\n",
            "[226, 736, 403, 357, 240, 625, 682],\n",
            "[468, 361, 266, 792, 844, 649, 143],\n",
            "[911, 307, 155, 543, 265, 526, 364],\n",
            "[130, 698, 129, 662, 743, 820, 134]]\n",
            "\n",
            "\n",
            "\n",
            "\n",
            "\n",
            "\n",
            "Matrix b: \n",
            "[[334],\n",
            "[696],\n",
            "[332],\n",
            "[312],\n",
            "[268]]\n"
          ]
        }
      ]
    },
    {
      "cell_type": "code",
      "source": [
        "aug_mtx_A_b = construct_augmented_matrix(five_by_seven_A, five_by_one_b)\n",
        "\n",
        "print_matrix(aug_mtx_A_b)"
      ],
      "metadata": {
        "colab": {
          "base_uri": "https://localhost:8080/"
        },
        "id": "402v8Fo-8FxP",
        "outputId": "25bf993d-9116-4463-971c-9b02a4e326ef"
      },
      "execution_count": 40,
      "outputs": [
        {
          "output_type": "stream",
          "name": "stdout",
          "text": [
            "[[987, 640, 188, 583, 854, 400, 162, 334],\n",
            "[226, 736, 403, 357, 240, 625, 682, 696],\n",
            "[468, 361, 266, 792, 844, 649, 143, 332],\n",
            "[911, 307, 155, 543, 265, 526, 364, 312],\n",
            "[130, 698, 129, 662, 743, 820, 134, 268]]\n"
          ]
        }
      ]
    },
    {
      "cell_type": "code",
      "source": [
        "ref_A_b = find_row_echelon_form(aug_mtx_A_b)\n",
        "\n",
        "print_matrix(ref_A_b)"
      ],
      "metadata": {
        "colab": {
          "base_uri": "https://localhost:8080/"
        },
        "id": "4okbhqH28dPk",
        "outputId": "8dff889c-478d-4a5f-e210-90c906daffd1"
      },
      "execution_count": 41,
      "outputs": [
        {
          "output_type": "stream",
          "name": "stdout",
          "text": [
            "[[987, 640, 188, 583, 854, 400, 162, 334],\n",
            "[0, 589.4549138804458, 359.95238095238096, 223.5065856129686, 44.45390070921985, 533.4093211752786, 644.9057750759879, 619.5217831813577],\n",
            "[0, 0, 141.72325332764976, 493.7464918733843, 434.72481574170837, 407.2698369864144, 3.2380610252461253, 113.15948655189484],\n",
            "[0, 0, 0, 4.891590678824741, 0, 156.8004052684904, 214.4741641337386, 3.718338399189463],\n",
            "[0, 0, 0, 0, 584.2350668280072, 0, 0, 0]]\n"
          ]
        }
      ]
    },
    {
      "cell_type": "code",
      "source": [
        "print(\"Given matrix is in REF\") if is_row_echelon(ref_A_b) else print(\"Given matrix is not in REF\")"
      ],
      "metadata": {
        "colab": {
          "base_uri": "https://localhost:8080/"
        },
        "id": "QbbYYuZB9EVw",
        "outputId": "e257bba0-46ba-4c49-f8da-42ccab1067fb"
      },
      "execution_count": 42,
      "outputs": [
        {
          "output_type": "stream",
          "name": "stdout",
          "text": [
            "Given matrix is in REF\n"
          ]
        }
      ]
    },
    {
      "cell_type": "code",
      "source": [
        "rref_A_b = find_reduced_row_echelon_form(ref_A_b, True)\n",
        "\n",
        "print_matrix(rref_A_b)"
      ],
      "metadata": {
        "colab": {
          "base_uri": "https://localhost:8080/"
        },
        "id": "_B3-KHR49iK5",
        "outputId": "9e5f4e2b-453b-4b21-a31a-3b9208d3ee33"
      },
      "execution_count": 43,
      "outputs": [
        {
          "output_type": "stream",
          "name": "stdout",
          "text": [
            "[[1.0, 0, 0, 0, 0, -33.592152188686185, -47.04794082000331, -0.9853294811826622],\n",
            "[0, 1.0, 0, 0, 0, 55.1908949981136, 77.73365439193574, 1.8923719537975445],\n",
            "[0, 0, 1.0, 0, 0, -108.80233582643422, -152.72946162608662, -1.8498127411521825],\n",
            "[0, 0, 0, 1.0, 0, 32.055095277547515, 43.84548467274216, 0.760149130074562],\n",
            "[0, 0, 0, 0, 1.0, 0, 0, 0]]\n"
          ]
        }
      ]
    },
    {
      "cell_type": "code",
      "source": [
        "twelve_by_twenty_four = generate_random_matrix(12, 24, False)\n",
        "\n",
        "print_matrix(twelve_by_twenty_four)"
      ],
      "metadata": {
        "colab": {
          "base_uri": "https://localhost:8080/"
        },
        "id": "54ienm9u1hgV",
        "outputId": "7082ef00-ce64-4e74-d094-bc9d188c8e4d"
      },
      "execution_count": 57,
      "outputs": [
        {
          "output_type": "stream",
          "name": "stdout",
          "text": [
            "[[62085, 85389, 77852, 31339, 72606, 25965, 43922, 84704, 49640, 90981, 99777, 23287, 36939, 32248, 46114, 96450, 54519, 61587, 54677, 30341, 32133, 82117, 25493, 21602],\n",
            "[65435, 89459, 28784, 91416, 66416, 64745, 95366, 17892, 54924, 42663, 72976, 55861, 60661, 96610, 44544, 12873, 25568, 59457, 10698, 90637, 60212, 77556, 45668, 14497],\n",
            "[30193, 27116, 34749, 17079, 65538, 41873, 10999, 53878, 36331, 18464, 63453, 77010, 68290, 60126, 35784, 12855, 59579, 58341, 34880, 58348, 47593, 79883, 35444, 17161],\n",
            "[80590, 60301, 93076, 54785, 29239, 72932, 16547, 61899, 13120, 86403, 70285, 53115, 53883, 76980, 88460, 41294, 51017, 28958, 81100, 71102, 88883, 34320, 58836, 64308],\n",
            "[81468, 81050, 81165, 21197, 12364, 38603, 85255, 23471, 96924, 72062, 43848, 85848, 12132, 20130, 67774, 99381, 68763, 52553, 53500, 59955, 89885, 83669, 85852, 47407],\n",
            "[83935, 50274, 83894, 63495, 50672, 85693, 21715, 22525, 90253, 62970, 47849, 52554, 81514, 30635, 86628, 26811, 71683, 86905, 68356, 33477, 40075, 42152, 44871, 23722],\n",
            "[68044, 81944, 59146, 98100, 24064, 92736, 33115, 51479, 43929, 99644, 60360, 18804, 37909, 94590, 80916, 94970, 97369, 47417, 18643, 19790, 23724, 61482, 18091, 94593],\n",
            "[18319, 38776, 71002, 24222, 72589, 56266, 62160, 45218, 95847, 57175, 84999, 76215, 23671, 24494, 24219, 45526, 58144, 73500, 14120, 88261, 18436, 70047, 95935, 77926],\n",
            "[72959, 90054, 91309, 32499, 64787, 37124, 81079, 61962, 42247, 15231, 83737, 16597, 53775, 57028, 74217, 39723, 14999, 44984, 83897, 19810, 97856, 87840, 90622, 88336],\n",
            "[67849, 42221, 22692, 11793, 58477, 36679, 95406, 22713, 24651, 19452, 15458, 25461, 88812, 38858, 53517, 40851, 65488, 52708, 38291, 17085, 95020, 35484, 70415, 45010],\n",
            "[54152, 30535, 79886, 40657, 71200, 69417, 41623, 63623, 55136, 41984, 19084, 44520, 76895, 43970, 56476, 57887, 51571, 25279, 58816, 63350, 91293, 20287, 18832, 19845],\n",
            "[43584, 92715, 10413, 27439, 23812, 40392, 64086, 15459, 59088, 18899, 68057, 60285, 79214, 19085, 41987, 64359, 89985, 63968, 72031, 41018, 88861, 47037, 58873, 59854]]\n"
          ]
        }
      ]
    },
    {
      "cell_type": "code",
      "source": [
        "twelve_by_twenty_four_ref = find_row_echelon_form(twelve_by_twenty_four)\n",
        "\n",
        "print_matrix(twelve_by_twenty_four_ref)"
      ],
      "metadata": {
        "colab": {
          "base_uri": "https://localhost:8080/"
        },
        "id": "E-NpDX0o2HBO",
        "outputId": "a21f7225-40ee-480f-d4a3-730d0df0a201"
      },
      "execution_count": 58,
      "outputs": [
        {
          "output_type": "stream",
          "name": "stdout",
          "text": [
            "[[62085, 85389, 77852, 31339, 72606, 25965, 43922, 84704, 49640, 90981, 99777, 23287, 36939, 32248, 46114, 96450, 54519, 61587, 54677, 30341, 32133, 82117, 25493, 21602],\n",
            "[0, 0, 0, 63753.04153982444, 0, 64278.845131674316, 0, 0, 0, 0, 0, 0, 0, 59246.79452363695, 30375.917596843043, 0, 37617.194636385604, 0, 0, 0, 0, 0, 0, 70917.61161311106],\n",
            "[0, 0, 0, 21126.65072078602, 0, 0, 0, 0, 23142.854232101163, 0, 0, 21071.446323588632, 31574.80430055569, 0, 377.7511240470121, 0, 0, 3643.2645566561987, 0, 0, 0, 0, 10406.073608762184, 0],\n",
            "[0, 0, 0, 1838.3069662559392, 30228.457308528632, 0, 0, 12684.992478054279, 0, 0, 14929.73413868084, 54586.00465685534, 33694.286965156396, 17486.966346637262, 0, 0, 15950.295254264482, 26471.140662205133, 8289.637416445195, 43592.65147781267, 31966.171152452283, 39948.09493436418, 17565.044341570952, 0],\n",
            "[0, 0, 0, 0, 0, 0, 27620.507030683744, 0, 3.637978807091713e-12, 0, 0, 26349.47910676374, 0, 0, 4602.805183336084, 0, 0, 0, 0, 20141.509011838607, 47720.044793428366, 0, 38107.48319557737, 14061.09564528275],\n",
            "[0, 0, 0, 14105.125473141656, 0, 0, 0, 0, 0, 0, 0, 0, 5933.994443102194, 0, 6065.594798655773, 0, 0, 0, 10126.021905452202, 14222.719683994, 5722.944483147156, 0, 0, 0],\n",
            "[0, 0, 0, 58386.001369090765, 0, 0, 49074.04429411291, 0, 0, 0, 0, 3.637978807091713e-12, 0, 28169.182100852624, 0, 0, 0, 0, 0, 0, 0, 0, 0, 0],\n",
            "[0, 0, 0, 0, 0, 0, 29464.194523636943, 0, 0, 0, 0, 0, 0, 0, 6305.858885494981, 0, 0, 0, 1954.0835198425593, 0, 50097.444910535654, 0, 60663.97814286864, 55656.3454153915],\n",
            "[0, 13580.846726262382, 48030.73821373923, 14975.013755335427, 51165.63986470162, 0, 49200.23326085206, 20224.965031811225, 0, 30329.85320125634, 0, 0, 0, 0, 0, 17067.152452283157, 0, 0, 0, 0, 0, 0, 0, 17927.433307587562],\n",
            "[0, 0, 0, 0, 0, 0, 47406.261286945315, 0, 0, 0, 0, 0, 0, 0, 0, 0, 1048.1258621295947, 0, 0, 0, 13161.371154563785, 0, 42537.8283536116, 12235.065353251275],\n",
            "[0, 32771.46813239913, 0, 5438.855424015463, 0, 0, 33252.522541676735, 0, 3.637978807091713e-12, 0, 0, 0, 0, 0, 0, 0, 0, 16917.544074036814, 0, 0, 0, 0, 0, 0],\n",
            "[0, 0, 11981.651059031981, 13322.38571313522, 7871.335878231461, 0, 3313.1966014335194, 0, 0, 0, 0, 0, 0, 0, 0, 0, 0, 0, 0, 0, 11435.485540908394, 0, 0, 0]]\n"
          ]
        }
      ]
    },
    {
      "cell_type": "code",
      "source": [
        "twelve_by_twenty_four_rref = find_reduced_row_echelon_form(twelve_by_twenty_four_ref)\n",
        "\n",
        "print_matrix(twelve_by_twenty_four_rref)"
      ],
      "metadata": {
        "colab": {
          "base_uri": "https://localhost:8080/"
        },
        "id": "mXhQmZ4x3R0i",
        "outputId": "65bbaece-2a63-43ce-f589-c1293d6371c5"
      },
      "execution_count": 59,
      "outputs": [
        {
          "output_type": "stream",
          "name": "stdout",
          "text": [
            "Given matrix is not in row echelon form, choose a different matrix to operate on!\n",
            "Error: Division by zero!Please take another suitable matrix.\n",
            "Error: Division by zero!Please take another suitable matrix.\n",
            "Error: Division by zero!Please take another suitable matrix.\n",
            "Error: Division by zero!Please take another suitable matrix.\n",
            "Error: Division by zero!Please take another suitable matrix.\n",
            "Error: Division by zero!Please take another suitable matrix.\n",
            "Error: Division by zero!Please take another suitable matrix.\n",
            "Error: Division by zero!Please take another suitable matrix.\n",
            "Error: Division by zero!Please take another suitable matrix.\n",
            "[[1.0, -29993753594.95774, 592690349246212.8, 0, 389368011909704.9, -88405.9006515026, 0, 587703676.622002, -29019.374217782446, 880153361.3807771, 927265.7894638001, -49466384265.75326, 2053110.511597114, 1004605.2375838136, -13073387864.340942, 495278085.3406897, -922510561789.9012, -15685420344.870337, -1539005720.7708797, -37811906358.6736, -11713084093581.977, 2481119.6896725283, -37559150297122.95, -10838981689800.137],\n",
            "[0, 16968007518.402725, -330946503801375.2, 0, -217415036448093.72, 64278.845131674316, 0, -439919.4525325223, 5.697437650659926e-06, -0.11567228982630312, -517767.69505498215, 27621110160.097816, -1168528.0619479024, -547206.4868743416, 7209478603.044219, -0.06509087241109433, -515422.6294317808, 8758439774.041412, 859351714.3927586, 21113477450.953865, 72064181569.35403, -1385412.01362819, 66635950780.50325, 39225074145.73066],\n",
            "[0, 5308603439.717753, -109671287609864.45, 0, -72048917052966.0, 0, 0, -468209199.2467181, 23142.854233989194, -701919371.5560341, -171579.22169250558, 9153177262.562653, -355655.1007509411, -200968.08473939568, 2518288893.657548, -394982621.38180697, 735699663149.6622, 2902398470.178449, 284774233.16256213, 6996639734.103613, 9262102187303.578, -459101.47985677124, 29880207750874.59, 8601027868052.745],\n",
            "[0, -266152.12558609253, 5191070038.511712, 1.0, 3410269238.876731, 0, 0, 6.900368075109312, -8.936730723821111e-11, 1.814380726510851e-06, 8.121458718664421, -433251.64561511646, 18.328977468752786, 9.512538802076557, -119199.60949743626, 1.0209845811110705e-06, 8.67472062054797, -137380.73607939633, -13479.383785257518, -331176.00260318513, -1130364.604241476, 21.730916363618014, -1045219.9482730239, -615264.8137362432],\n",
            "[0, -4.9406832572503415e-08, -315710264.244497, 0, -207405600.26577988, 0, 0, -7.357799415990021e-08, 3.637978807091713e-12, -1.1033936316837331e-07, 0, 26349.47910676374, 0, 0, 4602.805183336084, -6.208993891880948e-08, 0.00011564954014768173, 0, 0, 20141.509011838607, 47720.04624564568, 0, 38107.48788917426, 14061.09699529207],\n",
            "[0, 0, 0, 0, 0, 0, 0, 0, 0, 0, 0, 0, 0, 0, 6065.594798655773, 0, 0, 0, 0, 0, 0, 0, 0, 0],\n",
            "[0, 0, 0, 0, 0, 0, 1.0, 0, 0, 0, 0, 0, 0, 0, 0, 0, 0, 0, 0, 0, 0, 0, 0, 0],\n",
            "[0, 0, 0, 0, 0, 0, 0, 0, 0, 0, 0, 0, 0, 0, 6305.858885494981, 0, 0, 0, 1954.0835198425593, 0, 50097.444910535654, 0, 60663.97814286864, 55656.3454153915],\n",
            "[0, 13580.846726262382, 48030.73821373923, 0, 51165.63986470162, 0, 0, 20224.965031811225, 0, 30329.85320125634, 0, 0, 0, 0, 0, 17067.152452283157, -31789503.53483085, 0, 0, 0, -399182455.0451693, 0, -1290166089.4652796, -371087736.07188874],\n",
            "[0, 0, 0, 0, 0, 0, 0, 0, 0, 0, 0, 0, 0, 0, 0, 0, 1048.1258621295947, 0, 0, 0, 13161.371154563785, 0, 42537.8283536116, 12235.065353251275],\n",
            "[0, 32771.46813234973, 0, 0, 0, 0, 0, 0, 3.637978807091713e-12, 0, 0, 0, 0, 0, 0, 0, 0, 16917.544074036814, 0, 0, 0, 0, 0, 0],\n",
            "[0, 0, 11981.651059031981, 0, 7871.335878231461, 0, 0, 0, 0, 0, 0, 0, 0, 0, 0, 0, 0, 0, 0, 0, 0, 0, 0, 0]]\n"
          ]
        }
      ]
    }
  ]
}