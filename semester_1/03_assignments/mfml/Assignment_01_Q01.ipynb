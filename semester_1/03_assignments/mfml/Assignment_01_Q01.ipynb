{
  "nbformat": 4,
  "nbformat_minor": 0,
  "metadata": {
    "colab": {
      "provenance": [],
      "authorship_tag": "ABX9TyOMVh5rKHYsW9+s/B5S9qeE",
      "include_colab_link": true
    },
    "kernelspec": {
      "name": "python3",
      "display_name": "Python 3"
    },
    "language_info": {
      "name": "python"
    }
  },
  "cells": [
    {
      "cell_type": "markdown",
      "metadata": {
        "id": "view-in-github",
        "colab_type": "text"
      },
      "source": [
        "<a href=\"https://colab.research.google.com/github/vatsaaa/Flowise/blob/main/semester_1/03_assignments/mfml/Assignment_01_Q01.ipynb\" target=\"_parent\"><img src=\"https://colab.research.google.com/assets/colab-badge.svg\" alt=\"Open In Colab\"/></a>"
      ]
    },
    {
      "cell_type": "markdown",
      "source": [
        "Python function to create a random matrix, but without using libraries"
      ],
      "metadata": {
        "id": "E3sQoOj3Iat3"
      }
    },
    {
      "cell_type": "markdown",
      "source": [
        "#### **Copyright (c) 2023 G. Ankur Vatsa**\n",
        "This code is for my M. Tech. assignments. The copyright is addded in good faith that it will restrict others from using and copying for submitting as their own assignments.\n",
        "\n",
        "Please do not copy or use this code."
      ],
      "metadata": {
        "id": "O_nbH5PQAWC7"
      }
    },
    {
      "cell_type": "code",
      "source": [
        "import random"
      ],
      "metadata": {
        "id": "8XN7AhfvL0fH"
      },
      "execution_count": 98,
      "outputs": []
    },
    {
      "cell_type": "code",
      "source": [
        "def generate_random_matrix(rows: int, columns: int, allow_decimals: bool=False):\n",
        "    matrix = []\n",
        "\n",
        "    for _ in range(rows):\n",
        "      if allow_decimals:\n",
        "        # Chose 100 and 990 so that the matrix printing is better to look at\n",
        "        row = [random.choice([random.randint(100, 999),\n",
        "                              round(random.uniform(0, 1), 2)])\n",
        "                              for _ in range(columns)]\n",
        "      else:\n",
        "        # Chose 100 and 990 so that the matrix printing is better to look at\n",
        "        row = [random.randint(100, 999) for _ in range(columns)]\n",
        "\n",
        "        matrix.append(row)\n",
        "\n",
        "    return matrix"
      ],
      "metadata": {
        "id": "NPLp0yo8Iqed"
      },
      "execution_count": 122,
      "outputs": []
    },
    {
      "cell_type": "code",
      "source": [
        "two_by_two = generate_random_matrix(2, 2, False)\n",
        "\n",
        "two_by_two"
      ],
      "metadata": {
        "colab": {
          "base_uri": "https://localhost:8080/"
        },
        "id": "8pJAHIESLfw1",
        "outputId": "2fb7b270-0747-4b64-9fe7-1db363146a98"
      },
      "execution_count": 123,
      "outputs": [
        {
          "output_type": "execute_result",
          "data": {
            "text/plain": [
              "[[371, 540], [784, 520]]"
            ]
          },
          "metadata": {},
          "execution_count": 123
        }
      ]
    },
    {
      "cell_type": "markdown",
      "source": [
        "The above generated matrix is in a single line, that really does not look like a matrix. So, I create my own function to print a matrix that looks like a matrix."
      ],
      "metadata": {
        "id": "Tz1_ZPxoL8nU"
      }
    },
    {
      "cell_type": "code",
      "source": [
        "import sys\n",
        "\n",
        "def print_matrix(matrix):\n",
        "    print(\"[\", end=\"\")\n",
        "    for i, row in enumerate(matrix):\n",
        "        updated_row = [0 if abs(element) < sys.float_info.epsilon else element for element in row]\n",
        "        print(updated_row, end=\"\")\n",
        "        if i != len(matrix) - 1:\n",
        "            print(\",\\n\", end=\"\")\n",
        "    print(\"]\")\n"
      ],
      "metadata": {
        "id": "anAUIBwfMTVu"
      },
      "execution_count": 154,
      "outputs": []
    },
    {
      "cell_type": "code",
      "source": [
        "print_matrix(two_by_two)"
      ],
      "metadata": {
        "colab": {
          "base_uri": "https://localhost:8080/"
        },
        "id": "UqsGdTHcMhoE",
        "outputId": "e6d5386f-12bc-4e6b-876d-7888d93f81c4"
      },
      "execution_count": 125,
      "outputs": [
        {
          "output_type": "stream",
          "name": "stdout",
          "text": [
            "[[371, 540],\n",
            "[784, 520]]\n"
          ]
        }
      ]
    },
    {
      "cell_type": "markdown",
      "source": [
        "Now we get a two_by_one matrix, before creating the augmented matrix"
      ],
      "metadata": {
        "id": "vOirCDPJMxuB"
      }
    },
    {
      "cell_type": "code",
      "source": [
        "two_by_one = generate_random_matrix(2, 1, False)\n",
        "\n",
        "print_matrix(two_by_one)"
      ],
      "metadata": {
        "colab": {
          "base_uri": "https://localhost:8080/"
        },
        "id": "TjGKBWm4M-lb",
        "outputId": "d775b552-5cd1-4aa2-cef1-e9ba8eea864f"
      },
      "execution_count": 126,
      "outputs": [
        {
          "output_type": "stream",
          "name": "stdout",
          "text": [
            "[[914],\n",
            "[702]]\n"
          ]
        }
      ]
    },
    {
      "cell_type": "markdown",
      "source": [
        "Below function will create the augmented matrix required by Gaussian Elimination when"
      ],
      "metadata": {
        "id": "8_alXiP9NaDI"
      }
    },
    {
      "cell_type": "code",
      "source": [
        "def construct_augmented_matrix(A: list, b: list):\n",
        "    if len(A) != len(b):\n",
        "        raise ValueError(\"Number of rows in A must be equal to the length of b\")\n",
        "\n",
        "    # Zip A and b to create the augmented matrix\n",
        "    augmented_matrix = [row + bi for row, bi in zip(A, b)]\n",
        "\n",
        "    return augmented_matrix"
      ],
      "metadata": {
        "id": "6j5doxcKNuFD"
      },
      "execution_count": 129,
      "outputs": []
    },
    {
      "cell_type": "code",
      "source": [
        "A = two_by_two\n",
        "b = two_by_one\n",
        "\n",
        "augmented_matrix_A_b = construct_augmented_matrix(A, b)\n",
        "\n",
        "print_matrix(augmented_matrix_A_b)"
      ],
      "metadata": {
        "colab": {
          "base_uri": "https://localhost:8080/"
        },
        "id": "byFwL7NMN2us",
        "outputId": "599ba911-6795-4975-f1c5-36083ec638cf"
      },
      "execution_count": 130,
      "outputs": [
        {
          "output_type": "stream",
          "name": "stdout",
          "text": [
            "[[371, 540, 914],\n",
            "[784, 520, 702]]\n"
          ]
        }
      ]
    },
    {
      "cell_type": "markdown",
      "source": [
        "Function to find row echelon form of a given matrix"
      ],
      "metadata": {
        "id": "7CueIeoEOmdT"
      }
    },
    {
      "cell_type": "code",
      "source": [
        "from math import floor\n",
        "from sys import float_info\n",
        "\n",
        "def find_row_echelon_form(matrix: list):\n",
        "    rows = len(matrix)\n",
        "    columns = len(matrix[0])\n",
        "\n",
        "    pivot = 0\n",
        "    for row in range(rows):\n",
        "        if pivot >= columns:\n",
        "            break\n",
        "\n",
        "        # When pivot is 0 find a row where pivot element is not 0 and\n",
        "        if matrix[row][pivot] == 0:\n",
        "          for r in range(row + 1, rows):\n",
        "            if matrix[r][pivot] != 0:\n",
        "              # swap current row and row with non-zero pivot element\n",
        "              matrix[row], matrix[r] = matrix[r], matrix[row]\n",
        "              break\n",
        "            else:\n",
        "              pivot += 1\n",
        "              continue\n",
        "\n",
        "        # Now, when pivot position is not 0, do elementary row transformation\n",
        "        # so as to ensure below the pivot we get zeros in the entire column\n",
        "        for r in range(row + 1, rows):\n",
        "          factor_nr = float(matrix[r][pivot])\n",
        "          factor_dr = float(matrix[row][pivot])\n",
        "          factor = factor_nr / factor_dr\n",
        "          for c in range(pivot, columns):\n",
        "            matrix[r][c] = float(matrix[r][c]) - factor * float(matrix[row][c])\n",
        "            # if matrix[r][c] <= float_info.epsilon:\n",
        "            #   matrix[r][c] = 0.0\n",
        "\n",
        "        pivot += 1\n",
        "\n",
        "    return matrix\n"
      ],
      "metadata": {
        "id": "E1GjP_PMOuHW"
      },
      "execution_count": 144,
      "outputs": []
    },
    {
      "cell_type": "code",
      "source": [
        "ref_A_b = find_row_echelon_form(augmented_matrix_A_b)\n",
        "\n",
        "print_matrix(ref_A_b)"
      ],
      "metadata": {
        "colab": {
          "base_uri": "https://localhost:8080/"
        },
        "id": "Ik0sVY6TRNfS",
        "outputId": "75adc48b-44cf-4e73-8aef-d87998036c47"
      },
      "execution_count": 145,
      "outputs": [
        {
          "output_type": "stream",
          "name": "stdout",
          "text": [
            "[[1.0, 0.0, -0.4174622461378239],\n",
            "[0.0, 1.0, 1.9794046172539492]]\n"
          ]
        }
      ]
    },
    {
      "cell_type": "markdown",
      "source": [
        "Function to check if a given matrix is in row echelon form"
      ],
      "metadata": {
        "id": "nXjHvluUzZaQ"
      }
    },
    {
      "cell_type": "code",
      "source": [
        "def is_row_echelon(matrix: list):\n",
        "    rows = len(matrix)\n",
        "    columns = len(matrix[0])\n",
        "\n",
        "    pivot = 0\n",
        "    for row in range(rows):\n",
        "      if pivot >= columns:\n",
        "        break\n",
        "\n",
        "      # Pivot positions cannot have 0 in a matrix which is in row echelon form\n",
        "      if matrix[row][pivot] < float_info.epsilon:\n",
        "        return False\n",
        "\n",
        "      # All elements below the pivot must be 0\n",
        "      for r in range(row + 1, rows):\n",
        "        if matrix[r][pivot] != 0:\n",
        "          return False\n",
        "\n",
        "      pivot += 1\n",
        "\n",
        "    return True"
      ],
      "metadata": {
        "id": "nvKvBlxWzehd"
      },
      "execution_count": 147,
      "outputs": []
    },
    {
      "cell_type": "code",
      "source": [
        "print(\"Given matrix is in REF\") if is_row_echelon(ref_A_b) else print(\"Given matrix is not in REF\")"
      ],
      "metadata": {
        "colab": {
          "base_uri": "https://localhost:8080/"
        },
        "id": "_rvFkbmHzt1M",
        "outputId": "8885ee33-fb53-477c-d9a2-31693fc85634"
      },
      "execution_count": 148,
      "outputs": [
        {
          "output_type": "stream",
          "name": "stdout",
          "text": [
            "Given matrix is in REF\n"
          ]
        }
      ]
    },
    {
      "cell_type": "markdown",
      "source": [
        "Function to get reduced row echelon form of a matrix in row echelon form"
      ],
      "metadata": {
        "id": "iyUfBux-1Yp5"
      }
    },
    {
      "cell_type": "code",
      "source": [
        "def find_reduced_row_echelon_form(matrix: list, find_ref: bool=False):\n",
        "    if not is_row_echelon(matrix) and find_ref:\n",
        "        matrix = find_row_echelon_form(matrix)\n",
        "    elif not is_row_echelon(matrix) and not find_ref:\n",
        "        raise Exception(\"Given matrix is not in row echelon form!\")\n",
        "\n",
        "    rows = len(matrix)\n",
        "    columns = len(matrix[0])\n",
        "\n",
        "    pivot = 0\n",
        "    for row in range(rows):\n",
        "        if pivot >= columns:\n",
        "            break\n",
        "\n",
        "        # Divide the pivot row by the pivot element\n",
        "        pivot_element = matrix[row][pivot]\n",
        "        for c in range(columns):\n",
        "          matrix[row][c] /= pivot_element\n",
        "\n",
        "        # Eliminate non-zero elements above the pivot\n",
        "        for r in range(row):\n",
        "            factor = matrix[r][pivot]\n",
        "            for c in range(columns):\n",
        "                matrix[r][c] -= factor * matrix[row][c]\n",
        "\n",
        "        # Eliminate non-zero elements below the pivot\n",
        "        for r in range(row + 1, rows):\n",
        "            factor = matrix[r][pivot]\n",
        "            for c in range(columns):\n",
        "                matrix[r][c] -= factor * matrix[row][c]\n",
        "\n",
        "        pivot += 1\n",
        "\n",
        "    return matrix\n"
      ],
      "metadata": {
        "id": "mIIdfhj31gJZ"
      },
      "execution_count": 136,
      "outputs": []
    },
    {
      "cell_type": "code",
      "source": [
        "rref_A_b = find_reduced_row_echelon_form(ref_A_b)\n",
        "\n",
        "print_matrix(rref_A_b)"
      ],
      "metadata": {
        "colab": {
          "base_uri": "https://localhost:8080/"
        },
        "id": "yhbt28ue1svd",
        "outputId": "dcbb9db1-047c-46a2-9161-5c89b921c64b"
      },
      "execution_count": 137,
      "outputs": [
        {
          "output_type": "stream",
          "name": "stdout",
          "text": [
            "[[1.0, 0.0, -0.4174622461378239],\n",
            "[-0.0, 1.0, 1.9794046172539492]]\n"
          ]
        }
      ]
    },
    {
      "cell_type": "markdown",
      "source": [
        "1/c) Get a 5 x 7 matrix and a 5 x 1 matrix"
      ],
      "metadata": {
        "id": "onSVq35v69P9"
      }
    },
    {
      "cell_type": "code",
      "source": [
        "five_by_seven_A = generate_random_matrix(rows=5, columns=7)\n",
        "five_by_one_b = generate_random_matrix(rows=5, columns=1)\n",
        "\n",
        "print(\"Matrix A: \")\n",
        "print_matrix(five_by_seven_A)\n",
        "print(\"\\n\\n\\n\\n\\n\")\n",
        "\n",
        "print(\"Matrix b: \")\n",
        "print_matrix(five_by_one_b)"
      ],
      "metadata": {
        "colab": {
          "base_uri": "https://localhost:8080/"
        },
        "id": "Dw8PLJkX7Ko3",
        "outputId": "142d3d99-0531-46e6-fef8-151a030c4f97"
      },
      "execution_count": 149,
      "outputs": [
        {
          "output_type": "stream",
          "name": "stdout",
          "text": [
            "Matrix A: \n",
            "[[823, 161, 803, 519, 256, 368, 971],\n",
            "[762, 928, 333, 845, 660, 202, 476],\n",
            "[292, 714, 266, 922, 464, 702, 698],\n",
            "[256, 401, 707, 885, 239, 786, 453],\n",
            "[473, 842, 371, 375, 657, 217, 227]]\n",
            "\n",
            "\n",
            "\n",
            "\n",
            "\n",
            "\n",
            "Matrix b: \n",
            "[[622],\n",
            "[541],\n",
            "[456],\n",
            "[279],\n",
            "[641]]\n"
          ]
        }
      ]
    },
    {
      "cell_type": "code",
      "source": [
        "aug_mtx_A_b = construct_augmented_matrix(five_by_seven_A, five_by_one_b)\n",
        "\n",
        "print_matrix(aug_mtx_A_b)"
      ],
      "metadata": {
        "colab": {
          "base_uri": "https://localhost:8080/"
        },
        "id": "402v8Fo-8FxP",
        "outputId": "d79242e7-c96b-4db1-920b-b36a41345942"
      },
      "execution_count": 150,
      "outputs": [
        {
          "output_type": "stream",
          "name": "stdout",
          "text": [
            "[[823, 161, 803, 519, 256, 368, 971, 622],\n",
            "[762, 928, 333, 845, 660, 202, 476, 541],\n",
            "[292, 714, 266, 922, 464, 702, 698, 456],\n",
            "[256, 401, 707, 885, 239, 786, 453, 279],\n",
            "[473, 842, 371, 375, 657, 217, 227, 641]]\n"
          ]
        }
      ]
    },
    {
      "cell_type": "code",
      "source": [
        "ref_A_b = find_row_echelon_form(aug_mtx_A_b)\n",
        "\n",
        "print_matrix(ref_A_b)"
      ],
      "metadata": {
        "colab": {
          "base_uri": "https://localhost:8080/"
        },
        "id": "4okbhqH28dPk",
        "outputId": "55871f34-60e7-4e48-af11-cc871e41603c"
      },
      "execution_count": 155,
      "outputs": [
        {
          "output_type": "stream",
          "name": "stdout",
          "text": [
            "[[823, 161, 803, 519, 256, 368, 971, 622],\n",
            "[0, 778.9331713244228, 0, 364.4678007290401, 422.9744835965978, 0, 0, 0],\n",
            "[0, 0, 457.221142162819, 559.3637448483921, 0, 671.5309842041313, 150.96354799513975, 85.5224787363305],\n",
            "[0, 0, 0, 430.50198264754414, 16.475348718220687, 571.4337788578372, 353.48967193195625, 235.31470230862698],\n",
            "[0, 0, 0, 0, 102.89506163210422, 5.500607533414353, 0, 283.52004860267317]]\n"
          ]
        }
      ]
    },
    {
      "cell_type": "code",
      "source": [
        "print(\"Given matrix is in REF\") if is_row_echelon(ref_A_b) else print(\"Given matrix is not in REF\")"
      ],
      "metadata": {
        "colab": {
          "base_uri": "https://localhost:8080/"
        },
        "id": "QbbYYuZB9EVw",
        "outputId": "4755dbbf-a9d0-4264-9438-46b0220bf8de"
      },
      "execution_count": 156,
      "outputs": [
        {
          "output_type": "stream",
          "name": "stdout",
          "text": [
            "Given matrix is in REF\n"
          ]
        }
      ]
    },
    {
      "cell_type": "code",
      "source": [
        "rref_A_b = find_reduced_row_echelon_form(ref_A_b, True)\n",
        "\n",
        "print_matrix(rref_A_b)"
      ],
      "metadata": {
        "colab": {
          "base_uri": "https://localhost:8080/"
        },
        "id": "_B3-KHR49iK5",
        "outputId": "a0d8cee4-119d-41a6-94e8-a631d8abb5dd"
      },
      "execution_count": 118,
      "outputs": [
        {
          "output_type": "stream",
          "name": "stdout",
          "text": [
            "[[1.0, 0.0, 0.0, 0.0, 0.0, 1.3782867393559979, 1.5556378916878537, -0.718833793295687],\n",
            "[-0.0, 1.0, 0.0, 0.0, 0.0, -1.9929140454527472, -2.7981055063488003, 1.8022464397328202],\n",
            "[0.0, 0.0, 1.0, 0.0, 0.0, -1.7728267471030144, -1.4872420755398217, -1.8984035263474768],\n",
            "[-0.0, -0.0, -0.0, 1.0, 0.0, 2.683068857976499, 2.8306456159100417, 1.5292069421879186],\n",
            "[0.0, 0.0, 0.0, 0.0, 1.0, 1.8522210003308486, 2.005645908588871, -0.8671265313097116]]\n"
          ]
        }
      ]
    }
  ]
}